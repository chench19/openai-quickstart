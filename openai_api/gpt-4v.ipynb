{
 "cells": [
  {
   "cell_type": "markdown",
   "id": "b4b6a552-b7f0-433d-9a70-61c4fcc52d5d",
   "metadata": {},
   "source": [
    "# 快速入门 GPT-4 Vison\n",
    "\n",
    "从历史上看，语言模型系统仅接受**文本**作为输入。但是单一的输入形式，限制了大模型的应用落地范围。\n",
    "\n",
    "随着技术发展，OpenAI 开发的 GPT-4 Turbo with Vision（简称 GPT-4V）允许模型接收**图像**作为输入，并回答关于它们的问题。\n",
    "\n",
    "📢注意，目前在 Assistants API 中使用 GPT-4 时还不支持图像输入。"
   ]
  },
  {
   "cell_type": "markdown",
   "id": "3a701c56-0a2a-4dea-b458-234150b84ff2",
   "metadata": {},
   "source": [
    "## 使用 GPT-4V 识别线上图像（URL）\n",
    "\n",
    "![image_sample](https://upload.wikimedia.org/wikipedia/commons/thumb/d/dd/Gfp-wisconsin-madison-the-nature-boardwalk.jpg/2560px-Gfp-wisconsin-madison-the-nature-boardwalk.jpg)"
   ]
  },
  {
   "cell_type": "code",
   "execution_count": 1,
   "id": "bf8689b2-94f2-4a35-a332-9ffed0a56aca",
   "metadata": {},
   "outputs": [
    {
     "name": "stdout",
     "output_type": "stream",
     "text": [
      "Choice(finish_reason='stop', index=0, logprobs=None, message=ChatCompletionMessage(content='这幅图显示了一条位于广阔绿色草地中的木制栈道。栈道直线延伸，引导视线穿过丰富的绿色草丛，直至远处的树木和开阔的蓝天。图像中的天空被淡淡的云朵点缀，呈现出宁静和清新的自然景观。整体上，这张图片给人一种平静和放松的感觉，是自然美景的典型展示。此外，这样的环境可能是野生动植物的栖息地，适合进行自然观察和徒步旅行。', role='assistant', function_call=None, tool_calls=None))\n"
     ]
    }
   ],
   "source": [
    "from openai import OpenAI\n",
    "\n",
    "client = OpenAI()\n",
    "\n",
    "response = client.chat.completions.create(\n",
    "  model=\"gpt-4-turbo\",\n",
    "  messages=[\n",
    "    {\n",
    "      \"role\": \"user\",\n",
    "      \"content\": [\n",
    "        {\"type\": \"text\", \"text\": \"介绍下这幅图?\"},\n",
    "        {\n",
    "          \"type\": \"image_url\",\n",
    "          \"image_url\": {\n",
    "            \"url\": \"https://upload.wikimedia.org/wikipedia/commons/thumb/d/dd/Gfp-wisconsin-madison-the-nature-boardwalk.jpg/2560px-Gfp-wisconsin-madison-the-nature-boardwalk.jpg\",\n",
    "          },\n",
    "        },\n",
    "      ],\n",
    "    }\n",
    "  ],\n",
    "  max_tokens=300,\n",
    ")\n",
    "\n",
    "print(response.choices[0])"
   ]
  },
  {
   "cell_type": "code",
   "execution_count": 2,
   "id": "9bcc9026-7485-428f-8269-ea9ae41405cb",
   "metadata": {},
   "outputs": [
    {
     "data": {
      "text/plain": [
       "'这幅图显示了一条位于广阔绿色草地中的木制栈道。栈道直线延伸，引导视线穿过丰富的绿色草丛，直至远处的树木和开阔的蓝天。图像中的天空被淡淡的云朵点缀，呈现出宁静和清新的自然景观。整体上，这张图片给人一种平静和放松的感觉，是自然美景的典型展示。此外，这样的环境可能是野生动植物的栖息地，适合进行自然观察和徒步旅行。'"
      ]
     },
     "execution_count": 2,
     "metadata": {},
     "output_type": "execute_result"
    }
   ],
   "source": [
    "response.choices[0].message.content"
   ]
  },
  {
   "cell_type": "markdown",
   "id": "7fb50a14-fa14-4c63-9f81-b98b0f65d9d9",
   "metadata": {},
   "source": [
    "### 封装成一个函数 query_image_description"
   ]
  },
  {
   "cell_type": "code",
   "execution_count": 1,
   "id": "c1ca5428-c7e1-4d7e-91f1-d4a05e95ac51",
   "metadata": {},
   "outputs": [],
   "source": [
    "def query_image_description(url, prompt=\"介绍下这幅图?\"):\n",
    "    client = OpenAI()  # 初始化 OpenAI 客户端\n",
    "    \n",
    "    # 发送请求给 OpenAI 的聊天模型\n",
    "    response = client.chat.completions.create(\n",
    "        model=\"gpt-4-turbo\",  # 指定使用的模型\n",
    "        messages=[\n",
    "            {\n",
    "                \"role\": \"user\",\n",
    "                \"content\": [\n",
    "                    {\"type\": \"text\", \"text\": prompt},\n",
    "                    {\"type\": \"image_url\", \"image_url\": {\"url\": url}},\n",
    "                ],\n",
    "            }\n",
    "        ],\n",
    "        max_tokens=300,\n",
    "    )\n",
    "    \n",
    "    # 返回模型的响应\n",
    "    return response.choices[0].message.content\n"
   ]
  },
  {
   "cell_type": "markdown",
   "id": "a0d0aceb-7cc5-4da1-b6db-e47716ba145a",
   "metadata": {},
   "source": [
    "### 调用函数测试\n",
    "\n",
    "![meme_0](https://p6.itc.cn/q_70/images03/20200602/0c267a0d3d814c9783659eb956969ba1.jpeg)"
   ]
  },
  {
   "cell_type": "code",
   "execution_count": 4,
   "id": "454abb5c-49d3-42e6-867e-f44e25af5e0e",
   "metadata": {},
   "outputs": [
    {
     "name": "stdout",
     "output_type": "stream",
     "text": [
      "这张图片是一种比较幽默的对比图，使用了网络流行的狗头表情包来表现人生不同阶段的状态。图片分为左右两部分，每部分都有文字描述。\n",
      "\n",
      "左边部分标题是“16岁的我”，图片中的狗头表情包是一只肌肉发达的狗，下面的文字说明了年轻时的状态和心态：\n",
      "\n",
      "- 我前途一片光明\n",
      "- 身体素质高\n",
      "- 八九点钟的太阳\n",
      "- 未来可期\n",
      "\n",
      "右边部分标题是“工作后的我”，图片中的狗头表情包是一只看起来有些疲惫、憔悴的狗，下面的文字说明了工作后的状态和心态：\n",
      "\n",
      "- 好累好困\n",
      "- 好想睡懒觉\n",
      "- 重大伤病不要靠近我啊啊啊\n",
      "- 我好弱小啊啊啊啊啊\n",
      "- 我就是普通人\n",
      "\n",
      "这幅图通过对比年轻时的雄心壮志、充满活力和工作后的疲倦、沮丧，反映了许多人在不同人生阶段的心理和生理状态的变化，具有一定的讽刺意味和现实感。\n"
     ]
    }
   ],
   "source": [
    "image_url = \"https://p6.itc.cn/q_70/images03/20200602/0c267a0d3d814c9783659eb956969ba1.jpeg\"\n",
    "content = query_image_description(image_url)\n",
    "print(content)"
   ]
  },
  {
   "cell_type": "code",
   "execution_count": null,
   "id": "2471306a-84e2-4793-b065-0741fbe57262",
   "metadata": {},
   "outputs": [],
   "source": []
  },
  {
   "cell_type": "code",
   "execution_count": null,
   "id": "af79850f-83b5-49c4-a3f3-f2c01a28f458",
   "metadata": {},
   "outputs": [],
   "source": []
  },
  {
   "cell_type": "markdown",
   "id": "63ae05bd-872c-4638-8259-df4f420aaa1d",
   "metadata": {},
   "source": [
    "### 使用 GPT-4V 识别本地图像文件（Base64编码）\n"
   ]
  },
  {
   "cell_type": "code",
   "execution_count": 2,
   "id": "1e83da68-d387-46da-8236-78fc607d1fab",
   "metadata": {},
   "outputs": [],
   "source": [
    "from openai import OpenAI\n",
    "import base64\n",
    "import requests\n",
    "import json\n",
    "\n",
    "client = OpenAI()  # 初始化 OpenAI 客户端\n",
    "\n",
    "def query_base64_image_description(image_path, prompt=\"解释下图里的内容？\", max_tokens=1000):\n",
    "\n",
    "    # 实现 Base64 编码\n",
    "    def encode_image(path):\n",
    "        with open(path, \"rb\") as image_file:\n",
    "            return base64.b64encode(image_file.read()).decode('utf-8')\n",
    "\n",
    "    # 获取图像的 Base64 编码字符串\n",
    "    base64_image = encode_image(image_path)\n",
    "\n",
    "    # 构造请求的 HTTP Header\n",
    "    headers = {\n",
    "        \"Content-Type\": \"application/json\",\n",
    "        \"Authorization\": f\"Bearer {client.api_key}\"\n",
    "    }\n",
    "\n",
    "    # 构造请求的负载\n",
    "    payload = {\n",
    "        \"model\": \"gpt-4-turbo\",\n",
    "        \"messages\": [\n",
    "            {\n",
    "                \"role\": \"user\",\n",
    "                \"content\": [\n",
    "                    {\"type\": \"text\", \"text\": prompt},\n",
    "                    {\"type\": \"image_url\", \"image_url\": {\"url\": f\"data:image/jpeg;base64,{base64_image}\"}}\n",
    "                ]\n",
    "            }\n",
    "        ],\n",
    "        \"max_tokens\": max_tokens\n",
    "    }\n",
    "\n",
    "    # 发送 HTTP 请求\n",
    "    response = requests.post(\"https://api.xiaoai.plus/v1/chat/completions\", headers=headers, json=payload)\n",
    "\n",
    "    # 检查响应并提取所需的 content 字段\n",
    "    if response.status_code == 200:\n",
    "        response_data = response.json()\n",
    "        content = response_data['choices'][0]['message']['content']\n",
    "        return content\n",
    "    else:\n",
    "        return f\"Error: {response.status_code}, {response.text}\""
   ]
  },
  {
   "cell_type": "markdown",
   "id": "89dd0f99-8086-473f-80a4-497e6dd07c17",
   "metadata": {},
   "source": [
    "#### 使用 Assistants API生成的 GDP 40年对比曲线图\n",
    "\n",
    "![gdp_data](./images/gdp_1980_2020.jpg)"
   ]
  },
  {
   "cell_type": "code",
   "execution_count": 3,
   "id": "3c0e9063-e8d9-4bc1-ae60-ad0aa5bee32b",
   "metadata": {},
   "outputs": [
    {
     "name": "stdout",
     "output_type": "stream",
     "text": [
      "这张图显示了1980年至2020年间美国、中国、日本和德国的GDP（国内生产总值）的比较。以下是对图中各国GDP变化趋势的解释：\n",
      "\n",
      "1. **美国（蓝线）**：\n",
      "   - 从1980年到2020年，美国的GDP一直在稳步增长。\n",
      "   - 1980年，美国的GDP大约是2.8万亿美元。\n",
      "   - 到2020年，美国的GDP增长到超过20万亿美元，呈现出明显的上升趋势。\n",
      "\n",
      "2. **中国（红线）**：\n",
      "   - 从1980年到2000年，中国的GDP增长缓慢。\n",
      "   - 从2000年左右开始，中国的GDP增速显著加快，尤其是2005年之后增长更为明显。\n",
      "   - 到2020年，中国的GDP接近15万亿美元，显示出强劲的经济增长。\n",
      "\n",
      "3. **日本（紫线）**：\n",
      "   - 从1980年到1990年，日本的GDP快速增长。\n",
      "   - 1990年之后，日本的GDP增长趋于平缓，并在1995年左右达到峰值。\n",
      "   - 1995年后，日本的GDP出现了波动，整体上维持在一个较高但平稳的水平。\n",
      "   \n",
      "4. **德国（绿线）**：\n",
      "   - 从1980年到2000年，德国的GDP呈稳定增长趋势。\n",
      "   - 2000年后，德国的GDP继续增长，但速度较为平稳。\n",
      "   - 到2020年，德国的GDP接近4万亿美元。\n",
      "\n",
      "总结：\n",
      "- **美国**保持了世界最大经济体的位置，其GDP稳步增长。\n",
      "- **中国**在2000年后经济快速发展，GDP大幅上升，接近美国。\n",
      "- **日本**在1990年代达到经济高峰后，GDP增长趋缓。\n",
      "- **德国**的经济表现稳定，GDP增长较为平稳。\n",
      "\n",
      "这些数据反映了各国在全球经济中的地位和变化趋势。\n"
     ]
    }
   ],
   "source": [
    "content = query_base64_image_description(\"./images/gdp_1980_2020.jpg\")\n",
    "print(content)"
   ]
  },
  {
   "cell_type": "markdown",
   "id": "6d18b227-32a6-4450-86bd-c99ad5c533b9",
   "metadata": {},
   "source": [
    "#### 使用 GPT-4V 识别手写体笔记\n",
    "\n",
    "![](./images/handwriting_0.jpg)"
   ]
  },
  {
   "cell_type": "code",
   "execution_count": null,
   "id": "4193fa11-5edd-404c-9472-0cb8cc6799fc",
   "metadata": {},
   "outputs": [],
   "source": [
    "content = query_base64_image_description(\"./images/handwriting_0.jpg\")\n",
    "print(content)"
   ]
  },
  {
   "cell_type": "markdown",
   "id": "ca046601-018c-455c-ace2-41392cbda456",
   "metadata": {},
   "source": [
    "#### 在 Jupyter 标准输出中渲染 Markdown 格式内容"
   ]
  },
  {
   "cell_type": "code",
   "execution_count": null,
   "id": "516ee35b-1337-4b22-aea2-ee0adb706098",
   "metadata": {},
   "outputs": [],
   "source": [
    "from IPython.display import display, Markdown\n",
    "\n",
    "# 使用 display 和 Markdown 函数显示 Markdown 内容\n",
    "display(Markdown(content))"
   ]
  },
  {
   "cell_type": "markdown",
   "id": "b72ebbe3-87cc-4867-9cf0-62e5ed684482",
   "metadata": {},
   "source": [
    "![](./images/handwriting_1.jpg)"
   ]
  },
  {
   "cell_type": "code",
   "execution_count": 5,
   "id": "7c046958-aa7a-4066-88fa-4134869d9226",
   "metadata": {},
   "outputs": [
    {
     "data": {
      "text/markdown": [
       "这张图片展示了关于PEFT（Parameter-Efficient Fine-Tuning）方法和多模态指令微调大语言模型（LLMs）的手写笔记。以下是对内容的解释：\n",
       "\n",
       "### 左侧页面\n",
       "1. **H-F Transformers**\n",
       "   - 模型\n",
       "   - 数据\n",
       "   - Benchmark\n",
       "\n",
       "2. **PEFT: SOTA（State Of The Art）**\n",
       "   - PEFT Methods\n",
       "\n",
       "3. **PEFT**\n",
       "   - **Prompt Tuning**\n",
       "     - Adapter (2019, Google)\n",
       "     - Prefix (2021, Stanford)\n",
       "     - Prompt (2021, Google)\n",
       "     - P-Tuning v1 (2021)\n",
       "     - P-Tuning v2 (2021)\n",
       "     - Soft Prompts (2021)\n",
       "     - Hard Prompts\n",
       "       - Template-based\n",
       "   - Instruction Tuning: Ft LLMs\n",
       "     - T5 (21.09, Google)\n",
       "     - OpenAI Instruction GPT\n",
       "     - XRL HF\n",
       "     - BLOOMZ\n",
       "     - Alpaca\n",
       "     - Claude\n",
       "     - ChatGLM\n",
       "     - MOSS\n",
       "\n",
       "### 右侧页面\n",
       "1. **Multi-modality Instruction Ft. LLMs**\n",
       "   - LLaVA (13B)\n",
       "\n",
       "2. **LORA**\n",
       "   - LORA\n",
       "   - QLORA\n",
       "   - AdaLORA\n",
       "\n",
       "3. **Prefix-tuning & Adapters**\n",
       "   - Refine Δh in LLMs\n",
       "     - Δh: Project down -> non-linear -> Project up\n",
       "   - Insertion form: added type\n",
       "     - Modified representation: added structure in param\n",
       "     - Composition func: Δh + h = ?\n",
       "     - Adapter:\n",
       "       - Prefix: Δh\n",
       "       - Scaled parallel adapter\n",
       "       - MAM Adapters: scaled parallel adapter -> FFN -> MIM -> head attention\n",
       "       - Soft prompt -> Better results\n",
       "\n",
       "### 笔记的核心思想\n",
       "这些笔记讨论了各种参数高效微调（PEFT）方法，特别是提示调优（Prompt Tuning）和适配器（Adapters），以及在大语言模型上的指令微调（Instruction Tuning）。此外，还提到了多模态指令微调（如LLaVA）和一些新的方法如LORA和它的变种（QLORA、AdaLORA）。\n",
       "\n",
       "笔记中展示了对不同调优技术的简要介绍及其发展时间，特别关注了这些方法在模型参数调整中的角色以及它们的优点。"
      ],
      "text/plain": [
       "<IPython.core.display.Markdown object>"
      ]
     },
     "metadata": {},
     "output_type": "display_data"
    }
   ],
   "source": [
    "content = query_base64_image_description(\"./images/handwriting_1.jpg\")\n",
    "display(Markdown(content))"
   ]
  },
  {
   "cell_type": "code",
   "execution_count": 4,
   "id": "5357501e",
   "metadata": {},
   "outputs": [
    {
     "data": {
      "text/markdown": [
       "这张图显示的是一些手写的文字和箭头。内容似乎与某种过程或计算有关，可能是物理或工程领域的。其中一些文字是“max”、“Q”和“Vmax”，这些术语可能与最大值或最大量相关。文字的排列显示了一个从左向右的顺序或转换过程，各部分之间用箭头连接表示转换或流程的方向。\n",
       "\n",
       "具体来说，“Vmax”可能指的是“最大速度”或“最大电压”，具体含义取决于上下文。而“Q”可能代表“量”或“电荷”，同样也需要更多上下文来准确解释。总体上，这张图片看起来像是快速草绘的笔记或计算过程。"
      ],
      "text/plain": [
       "<IPython.core.display.Markdown object>"
      ]
     },
     "metadata": {},
     "output_type": "display_data"
    }
   ],
   "source": [
    "from IPython.display import display, Markdown\n",
    "\n",
    "content = query_base64_image_description(\"./images/gpt-4v.png\")\n",
    "display(Markdown(content))"
   ]
  },
  {
   "cell_type": "code",
   "execution_count": null,
   "id": "156a0f17-cca8-4f01-9ce5-53384b5ffda4",
   "metadata": {},
   "outputs": [],
   "source": []
  },
  {
   "cell_type": "code",
   "execution_count": null,
   "id": "e3bd772f-9492-4f6c-b05a-666b772ca3c9",
   "metadata": {},
   "outputs": [],
   "source": []
  },
  {
   "cell_type": "code",
   "execution_count": null,
   "id": "8afdeacb-aac1-4692-be2b-fb7957ba5e8f",
   "metadata": {},
   "outputs": [],
   "source": []
  },
  {
   "cell_type": "markdown",
   "id": "79a8d459-d98e-4215-9fbf-38ad37080475",
   "metadata": {},
   "source": [
    "## Homework: \n",
    "\n",
    "\n",
    "### #1\n",
    "\n",
    "使用 GPT-4V 识别带有手写体文字的本地图像文件，分享结果。\n",
    "\n",
    "### #2\n",
    "\n",
    "整合 `query_base64_image_description` 函数和 Markdown 格式渲染方法，使得输出结果更易阅读。"
   ]
  },
  {
   "cell_type": "code",
   "execution_count": null,
   "id": "0909bf27-9c4a-498c-9fae-0f442062b9a8",
   "metadata": {},
   "outputs": [],
   "source": []
  }
 ],
 "metadata": {
  "kernelspec": {
   "display_name": "Python 3.10.14 ('langchain')",
   "language": "python",
   "name": "python3"
  },
  "language_info": {
   "codemirror_mode": {
    "name": "ipython",
    "version": 3
   },
   "file_extension": ".py",
   "mimetype": "text/x-python",
   "name": "python",
   "nbconvert_exporter": "python",
   "pygments_lexer": "ipython3",
   "version": "3.10.14"
  },
  "vscode": {
   "interpreter": {
    "hash": "25bc2d1ebc14a4b471999500107678d455a04fb21f03d144413ff6803c47ecd9"
   }
  }
 },
 "nbformat": 4,
 "nbformat_minor": 5
}
